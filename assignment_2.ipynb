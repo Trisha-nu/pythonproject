{
  "nbformat": 4,
  "nbformat_minor": 0,
  "metadata": {
    "colab": {
      "provenance": [],
      "authorship_tag": "ABX9TyO/0PFwi9XfWLdAutGkhMa2",
      "include_colab_link": true
    },
    "kernelspec": {
      "name": "python3",
      "display_name": "Python 3"
    },
    "language_info": {
      "name": "python"
    }
  },
  "cells": [
    {
      "cell_type": "markdown",
      "metadata": {
        "id": "view-in-github",
        "colab_type": "text"
      },
      "source": [
        "<a href=\"https://colab.research.google.com/github/Trisha-nu/pythonproject/blob/main/assignment_2.ipynb\" target=\"_parent\"><img src=\"https://colab.research.google.com/assets/colab-badge.svg\" alt=\"Open In Colab\"/></a>"
      ]
    },
    {
      "cell_type": "code",
      "execution_count": 1,
      "metadata": {
        "colab": {
          "base_uri": "https://localhost:8080/"
        },
        "id": "Kwu_WFsJqw7Y",
        "outputId": "1bb38578-ac1d-4356-f5b0-0b1f51f3ce5e"
      },
      "outputs": [
        {
          "output_type": "stream",
          "name": "stdout",
          "text": [
            "Safety stock: 52.18 units\n",
            "Reorder point: 552.18 units\n",
            "Inventory turnover ratio: 5.00\n"
          ]
        }
      ],
      "source": [
        "def calculate_reorder_point(lead_time_demand, safety_stock):\n",
        "    return lead_time_demand + safety_stock\n",
        "def calculate_inventory_turnover(cost_of_goods_sold, average_inventory):\n",
        "    return cost_of_goods_sold / average_inventory\n",
        "def calculate_safety_stock(daily_demand, lead_time, std_dev_demand, z_score):\n",
        "    return z_score * std_dev_demand * (lead_time ** 0.5)\n",
        "average_daily_demand = 50\n",
        "lead_time_in_days = 10\n",
        "std_dev_demand = 10\n",
        "z_score_service_level = 1.65\n",
        "safety_stock = calculate_safety_stock(average_daily_demand, lead_time_in_days, std_dev_demand, z_score_service_level)\n",
        "print(f\"Safety stock: {safety_stock:.2f} units\")\n",
        "lead_time_demand = average_daily_demand * lead_time_in_days\n",
        "reorder_point = calculate_reorder_point(lead_time_demand, safety_stock)\n",
        "print(f\"Reorder point: {reorder_point:.2f} units\")\n",
        "cost_of_goods_sold = 100000\n",
        "average_inventory = 20000\n",
        "inventory_turnover = calculate_inventory_turnover(cost_of_goods_sold, average_inventory)\n",
        "print(f\"Inventory turnover ratio: {inventory_turnover:.2f}\")\n"
      ]
    }
  ]
}